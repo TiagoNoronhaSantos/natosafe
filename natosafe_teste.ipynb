{
 "cells": [
  {
   "cell_type": "markdown",
   "metadata": {},
   "source": [
    "# <font color='blue'>Teste Cientista de Dados - NATOSAFE</font>\n",
    "# <font color='black'>Tiago Noronha</font>"
   ]
  },
  {
   "cell_type": "markdown",
   "metadata": {},
   "source": [
    "<h3>1. Carregar 50 imagens, separá-las em duas listas de forma aleatória,uma com 40 e outra com 10 imagens. Converter em escala cinza e mostrá-las.<h3>"
   ]
  },
  {
   "cell_type": "code",
   "execution_count": null,
   "metadata": {},
   "outputs": [],
   "source": [
    "# Versão da Linguagem Python\n",
    "from platform import python_version\n",
    "print('Versão da Linguagem Python Usada Neste Jupyter Notebook:', python_version())"
   ]
  },
  {
   "cell_type": "code",
   "execution_count": null,
   "metadata": {},
   "outputs": [],
   "source": [
    "# Bibliotecas e pacotes utilizados no primeiro exercício\n",
    "from os import listdir\n",
    "from os.path import isfile, join\n",
    "import random\n",
    "from PIL import Image as PILImage\n",
    "from IPython.core.display import Image, display"
   ]
  },
  {
   "cell_type": "code",
   "execution_count": null,
   "metadata": {},
   "outputs": [],
   "source": [
    "# Diretório contendo as 50 imagens coloridas\n",
    "mypath = r'C:\\Users\\noron\\OneDrive\\Documentos\\natosafe\\images'\n",
    "\n",
    "# Criando uma lista com os nomes das 50 imagens\n",
    "onlyfiles = [f for f in listdir(mypath) if isfile(join(mypath, f))]"
   ]
  },
  {
   "cell_type": "code",
   "execution_count": null,
   "metadata": {},
   "outputs": [],
   "source": [
    "# Mostrando todas as 50 imagens coloridas\n",
    "for imagem in onlyfiles:\n",
    "    display(Image(mypath + \"\\\\\" + imagem, width=190, unconfined=True))"
   ]
  },
  {
   "cell_type": "code",
   "execution_count": null,
   "metadata": {},
   "outputs": [],
   "source": [
    "# Calcula 20% do número de imagens totais, nesse caso, num = 10\n",
    "num = int(len(onlyfiles)*0.2)\n",
    "\n",
    "# Cria uma lista aleatóriamente com 20% das imagens totais (10 imagens)\n",
    "list_of_random_items = random.sample(onlyfiles, num)\n",
    "\n",
    "# Remove as 10 imagens da primeira lista, restando uma lista com 40 e outra com 10 imagens\n",
    "for item in list_of_random_items:\n",
    "\tonlyfiles.remove(item)"
   ]
  },
  {
   "cell_type": "code",
   "execution_count": null,
   "metadata": {},
   "outputs": [],
   "source": [
    "# Diretório para as 40 imagens convertidas em escala cinza\n",
    "graypath = r'C:\\Users\\noron\\OneDrive\\Documentos\\natosafe\\gray_images'\n",
    "\n",
    "# Loop for para converter as imagens em escala cinza, salvar no diretório 'gray_images' e mostrá-las\n",
    "for imagem in onlyfiles:\n",
    "    img = PILImage.open(mypath + \"\\\\\" + imagem).convert('LA')\n",
    "    img.save(graypath + \"\\\\\" + imagem)\n",
    "    display(Image(graypath + \"\\\\\" + imagem, width=190, unconfined=True))"
   ]
  },
  {
   "cell_type": "markdown",
   "metadata": {},
   "source": [
    "<h3>2. Plotar um histograma dada uma lista de valores em um arquivo .csv<h3>"
   ]
  },
  {
   "cell_type": "code",
   "execution_count": null,
   "metadata": {},
   "outputs": [],
   "source": [
    "# Bibliotecas e pacotes utilizados no segundo exercício\n",
    "import numpy as np\n",
    "import pandas as pd\n",
    "import matplotlib.pyplot as plt"
   ]
  },
  {
   "cell_type": "code",
   "execution_count": null,
   "metadata": {},
   "outputs": [],
   "source": [
    "# Leitura dos arquivos 'curitiba.csv' e 'foz_do_iguacu.csv'. Ambos contém informações\n",
    "# de temperatura referente ao mês de Janeiro/2020 para as duas cidades\n",
    "# Dados: Temperatura Mínima diária, Temperatura Máxima diária e Temperatura Média diária\n",
    "# além dos dados não utilizados de velocidade e direção do vento\n",
    "\n",
    "# Criação do DataFrame\n",
    "df_curitiba = pd.read_csv('curitiba.csv', delimiter = ';')\n",
    "df_foz = pd.read_csv('foz_do_iguacu.csv', delimiter = ';')"
   ]
  },
  {
   "cell_type": "code",
   "execution_count": null,
   "metadata": {},
   "outputs": [],
   "source": [
    "# Labels para cada conjunto plotado\n",
    "labels = ['Mínima','Mínima Média','Máxima','Máxima Média','Média Mensal']"
   ]
  },
  {
   "cell_type": "code",
   "execution_count": null,
   "metadata": {},
   "outputs": [],
   "source": [
    "# Conjunto de dados referente à Cidade de Curitiba\n",
    "temp_curitiba = [np.min(df_curitiba['TempMin']),\n",
    "\t\t\t\t round(np.mean(df_curitiba['TempMin']),1),\n",
    "\t\t\t\t np.max(df_curitiba['TempMax']),\n",
    "\t\t\t\t round(np.mean(df_curitiba['TempMax']),1),\n",
    "\t\t\t\t round(np.mean(df_curitiba['TempMedia']),1)]"
   ]
  },
  {
   "cell_type": "code",
   "execution_count": null,
   "metadata": {},
   "outputs": [],
   "source": [
    "# Conjunto de dados referente à Cidade de Foz do Iguaçu\n",
    "temp_foz = [np.min(df_foz['TempMin']),\n",
    "\t\t\tround(np.mean(df_foz['TempMin']),1),\n",
    "\t\t\tnp.max(df_foz['TempMax']),\n",
    "\t\t\tround(np.mean(df_foz['TempMax']),1),\n",
    "\t\t\tround(np.mean(df_foz['TempMedia']),1)]"
   ]
  },
  {
   "cell_type": "code",
   "execution_count": null,
   "metadata": {},
   "outputs": [],
   "source": [
    "# Número de barras no histograma\n",
    "x = np.arange(len(labels))\n",
    "\n",
    "# Largura das barras\n",
    "width = 0.35"
   ]
  },
  {
   "cell_type": "code",
   "execution_count": null,
   "metadata": {},
   "outputs": [],
   "source": [
    "# Criação do frame da figura e suas características\n",
    "fig, ax = plt.subplots()\n",
    "rects1 = ax.bar(x - width/2, temp_curitiba, width, label='Curitiba')\n",
    "rects2 = ax.bar(x + width/2, temp_foz, width, label='Foz do Iguaçu')\n",
    "ax.set_ylabel('Temperatura ºC')\n",
    "ax.set_title('Comparação Temperatura Janeiro/2020')\n",
    "ax.set_xticks(x)\n",
    "ax.set_xticklabels(labels, rotation=20)\n",
    "ax.legend()"
   ]
  },
  {
   "cell_type": "markdown",
   "metadata": {},
   "source": [
    "<h3>3. Fazer uma Regressão Linear utilizando o scikit-learn.<h3>"
   ]
  },
  {
   "cell_type": "code",
   "execution_count": null,
   "metadata": {},
   "outputs": [],
   "source": [
    "# Bibliotecas e pacotes utilizados no terceiro exercício\n",
    "import matplotlib.pyplot as plt\n",
    "from sklearn import datasets, linear_model\n",
    "from sklearn.metrics import mean_squared_error, r2_score"
   ]
  },
  {
   "cell_type": "code",
   "execution_count": null,
   "metadata": {},
   "outputs": [],
   "source": [
    "# Utilizou-se os dados do dataset sobre diabetes\n",
    "\n",
    "# Carregando os dados\n",
    "diabetes_X, diabetes_y = datasets.load_diabetes(return_X_y=True)\n",
    "\n",
    "# Utilizando apenas uma informação (característica)\n",
    "diabetes_X = diabetes_X[:, np.newaxis, 2]\n",
    "\n",
    "# Separando os dados entre treinamento e teste\n",
    "diabetes_X_train = diabetes_X[:-20]\n",
    "diabetes_X_test = diabetes_X[-20:]\n",
    "\n",
    "# Separando os targets entre treinamento e teste\n",
    "diabetes_y_train = diabetes_y[:-20]\n",
    "diabetes_y_test = diabetes_y[-20:]"
   ]
  },
  {
   "cell_type": "code",
   "execution_count": null,
   "metadata": {},
   "outputs": [],
   "source": [
    "# Criação do objeto para a Regressão Linear\n",
    "regr = linear_model.LinearRegression()\n",
    "\n",
    "# Treinamento do modelo utilizando os dados de treinamento\n",
    "regr.fit(diabetes_X_train, diabetes_y_train)\n",
    "\n",
    "# Predições do modelo utilizando os dados de teste\n",
    "diabetes_y_pred = regr.predict(diabetes_X_test)"
   ]
  },
  {
   "cell_type": "code",
   "execution_count": null,
   "metadata": {},
   "outputs": [],
   "source": [
    "# Os coeficientes da Regressão\n",
    "print('Coeficientes: \\n', regr.coef_)\n",
    "# Erro quadrático médio para os targets do teste e da predição\n",
    "print('Erro médio quadrático: %.2f' % mean_squared_error(diabetes_y_test, diabetes_y_pred))\n",
    "# O coeficiente de determinação: quanto mais próximo de 1, melhor.\n",
    "print('Coeficiente de determinação: %.2f' % r2_score(diabetes_y_test, diabetes_y_pred))"
   ]
  },
  {
   "cell_type": "code",
   "execution_count": null,
   "metadata": {},
   "outputs": [],
   "source": [
    "# Gráfico com os pontos dos dados de teste e reta resultado da Regressão Linear\n",
    "plt.scatter(diabetes_X_test, diabetes_y_test,  color='black')\n",
    "plt.plot(diabetes_X_test, diabetes_y_pred, color='red', linewidth=2)\n",
    "plt.title('Regressão Linear')\n",
    "plt.show()"
   ]
  }
 ],
 "metadata": {
  "kernelspec": {
   "display_name": "Python 3",
   "language": "python",
   "name": "python3"
  },
  "language_info": {
   "codemirror_mode": {
    "name": "ipython",
    "version": 3
   },
   "file_extension": ".py",
   "mimetype": "text/x-python",
   "name": "python",
   "nbconvert_exporter": "python",
   "pygments_lexer": "ipython3",
   "version": "3.8.3"
  }
 },
 "nbformat": 4,
 "nbformat_minor": 4
}
